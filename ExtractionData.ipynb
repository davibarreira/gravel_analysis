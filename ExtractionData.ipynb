{
 "cells": [
  {
   "cell_type": "code",
   "execution_count": 1,
   "metadata": {
    "collapsed": true,
    "deletable": true,
    "editable": true
   },
   "outputs": [],
   "source": [
    "import os \n",
    "import pandas as pd\n",
    "import shutil\n",
    "\n",
    "filetexture    = []\n",
    "fileangularity = []\n",
    "photoangularity= []\n",
    "phototexture   = []\n",
    "\n",
    "for subdir, dirs, files in os.walk(os.getcwd()):\n",
    "    for file in files:\n",
    "        if 'Depth' in file:\n",
    "            filetexture.append(os.path.join(subdir,file))\n",
    "        if 'Grad_Ang' in file:\n",
    "            fileangularity.append(os.path.join(subdir,file))\n",
    "        if 'Angularity' in subdir and '.tif' in file:\n",
    "            photoangularity.append(os.path.join(subdir,file))\n",
    "        if 'Texture' in subdir and '.tif' in file:\n",
    "            phototexture.append(os.path.join(subdir,file))"
   ]
  },
  {
   "cell_type": "code",
   "execution_count": 2,
   "metadata": {
    "collapsed": false,
    "deletable": true,
    "editable": true
   },
   "outputs": [],
   "source": [
    "list_ = []\n",
    "for file in filetexture:\n",
    "    df = pd.read_csv(file,sep='\\t',names=['drop','drop2','texture','filename'])\n",
    "    df['empresa'] = file.split('/')[6]\n",
    "    df['gravel_size'] = file.split('/')[7]\n",
    "    list_.append(df)\n",
    "texture = pd.concat(list_).reset_index(drop=True).drop(['drop','drop2'],axis=1)\n",
    "texture['image'] = texture.filename.str.split('\\\\').str[-1]\n",
    "texture['image'] = texture.image.str.replace(',','.')\n",
    "\n",
    "list_ = []\n",
    "for file in fileangularity:\n",
    "    df = pd.read_csv(file,sep='\\t',names=['angularity','drop','filename'])\n",
    "    df['empresa'] = file.split('/')[6]\n",
    "    df['gravel_size']    = file.split('/')[7]\n",
    "    list_.append(df)\n",
    "angularity = pd.concat(list_).reset_index(drop=True).drop('drop',axis=1)\n",
    "angularity['image'] = angularity.filename.str.split('\\\\').str[-1]\n",
    "angularity['image'] = angularity.image.str.replace(',','.')\n"
   ]
  },
  {
   "cell_type": "code",
   "execution_count": 3,
   "metadata": {
    "collapsed": false
   },
   "outputs": [],
   "source": [
    "list_ = [texture.empresa+'/'+texture.gravel_size+'/'+'Angularity/'+angularity.image]\n",
    "n = 0\n",
    "for i in list_[0]:\n",
    "    checker = 0\n",
    "    for k in photoangularity:\n",
    "        if i in k:\n",
    "            name= os.getcwd()+'/photos/angularity/'+str(n)+'.tif'\n",
    "            shutil.copy2(k,name)\n",
    "            n = n+1\n",
    "            checker = 1\n",
    "    if checker == 0:\n",
    "        print(i)\n",
    "        \n",
    "            \n",
    "list_ = [texture.empresa+'/'+texture.gravel_size+'/'+'Texture/'+texture.image]\n",
    "n = 0\n",
    "for i in list_[0]:\n",
    "    checker = 0\n",
    "    for k in phototexture:\n",
    "        if i in k:\n",
    "            name= os.getcwd()+'/photos/texture/'+str(n)+'.tif'\n",
    "            shutil.copy2(k,name)\n",
    "            n = n+1\n",
    "            checker = 1\n",
    "    if checker == 0:\n",
    "        print(i)"
   ]
  }
 ],
 "metadata": {
  "kernelspec": {
   "display_name": "Python 3",
   "language": "python",
   "name": "python3"
  },
  "language_info": {
   "codemirror_mode": {
    "name": "ipython",
    "version": 3
   },
   "file_extension": ".py",
   "mimetype": "text/x-python",
   "name": "python",
   "nbconvert_exporter": "python",
   "pygments_lexer": "ipython3",
   "version": "3.5.2"
  }
 },
 "nbformat": 4,
 "nbformat_minor": 2
}
