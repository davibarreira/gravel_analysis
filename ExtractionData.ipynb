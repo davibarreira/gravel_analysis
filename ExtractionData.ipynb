{
 "cells": [
  {
   "cell_type": "code",
   "execution_count": 27,
   "metadata": {
    "collapsed": true,
    "deletable": true,
    "editable": true
   },
   "outputs": [],
   "source": [
    "import os \n",
    "import pandas as pd\n",
    "import shutil\n",
    "\n",
    "filetexture    = []\n",
    "fileangularity = []\n",
    "photoangularity= []\n",
    "phototexture   = []\n",
    "\n",
    "for subdir, dirs, files in os.walk(os.getcwd()):\n",
    "    for file in files:\n",
    "        if 'Depth' in file:\n",
    "            filetexture.append(os.path.join(subdir,file))\n",
    "        if 'Grad_Ang' in file:\n",
    "            fileangularity.append(os.path.join(subdir,file))\n",
    "        if 'Angularity' in subdir and '.tif' in file:\n",
    "            photoangularity.append(os.path.join(subdir,file))\n",
    "        if 'Texture' in subdir and '.tif' in file:\n",
    "            phototexture.append(os.path.join(subdir,file))"
   ]
  },
  {
   "cell_type": "code",
   "execution_count": 28,
   "metadata": {
    "collapsed": false,
    "deletable": true,
    "editable": true
   },
   "outputs": [],
   "source": [
    "list_ = []\n",
    "for file in filetexture:\n",
    "    df = pd.read_csv(file,sep='\\t',names=['drop','drop2','texture','filename'])\n",
    "    df['empresa'] = file.split('/')[6]\n",
    "    df['gravel_size'] = file.split('/')[7]\n",
    "    list_.append(df)\n",
    "texture = pd.concat(list_).reset_index(drop=True).drop(['drop','drop2'],axis=1)\n",
    "texture['image'] = texture.filename.str.split('\\\\').str[-1]\n",
    "texture['image'] = texture.filename.str.replace(',','.')\n",
    "\n",
    "list_ = []\n",
    "for file in fileangularity:\n",
    "    df = pd.read_csv(file,sep='\\t',names=['angularity','drop','filename'])\n",
    "    df['empresa'] = file.split('/')[6]\n",
    "    df['gravel_size']    = file.split('/')[7]\n",
    "    list_.append(df)\n",
    "angularity = pd.concat(list_).reset_index(drop=True).drop('drop',axis=1)\n",
    "angularity['image'] = angularity.filename.str.split('\\\\').str[-1]\n",
    "angularity['image'] = angularity.filename.str.replace(',','.')\n"
   ]
  },
  {
   "cell_type": "code",
   "execution_count": 6,
   "metadata": {
    "collapsed": false,
    "deletable": true,
    "editable": true
   },
   "outputs": [],
   "source": [
    "# print(texture.filename[1])\n",
    "# print(angularity.filename[1])\n",
    "name= os.getcwd()+'/photos/'+str(1)+'.tif'"
   ]
  },
  {
   "cell_type": "code",
   "execution_count": null,
   "metadata": {
    "collapsed": false,
    "deletable": true,
    "editable": true
   },
   "outputs": [],
   "source": [
    "shutil.copy2(photoangularity[0],name)"
   ]
  },
  {
   "cell_type": "code",
   "execution_count": 30,
   "metadata": {
    "collapsed": false
   },
   "outputs": [],
   "source": [
    "l = [angularity.image == texture.image,angularity.gravel_size == texture.gravel_size]"
   ]
  },
  {
   "cell_type": "code",
   "execution_count": 31,
   "metadata": {
    "collapsed": false
   },
   "outputs": [
    {
     "name": "stdout",
     "output_type": "stream",
     "text": [
      "Image_000,tif\n",
      "ocs - pilhapulmão\n",
      "Image_000.tif\n",
      "ocs - pilhapulmão\n"
     ]
    }
   ],
   "source": [
    "n  = 200\n",
    "print(angularity.image[n])\n",
    "print(angularity.empresa[n])\n",
    "print(texture.image[n])\n",
    "print(texture.empresa[n])"
   ]
  },
  {
   "cell_type": "code",
   "execution_count": 32,
   "metadata": {
    "collapsed": false
   },
   "outputs": [
    {
     "name": "stdout",
     "output_type": "stream",
     "text": [
      "200\n",
      "201\n",
      "202\n",
      "203\n",
      "204\n",
      "205\n",
      "206\n",
      "207\n",
      "208\n",
      "209\n",
      "210\n",
      "211\n",
      "212\n",
      "213\n",
      "214\n",
      "215\n",
      "216\n",
      "217\n",
      "218\n",
      "219\n",
      "220\n",
      "221\n",
      "222\n",
      "223\n",
      "224\n",
      "225\n",
      "226\n",
      "227\n",
      "228\n",
      "229\n",
      "230\n",
      "231\n",
      "232\n",
      "233\n",
      "234\n",
      "235\n",
      "236\n",
      "237\n",
      "238\n",
      "239\n",
      "240\n",
      "241\n",
      "242\n",
      "243\n",
      "244\n",
      "245\n",
      "246\n",
      "247\n",
      "248\n",
      "249\n",
      "250\n",
      "251\n",
      "252\n",
      "253\n",
      "254\n",
      "255\n",
      "256\n",
      "257\n",
      "258\n",
      "259\n",
      "260\n",
      "261\n",
      "262\n",
      "263\n",
      "264\n",
      "265\n",
      "266\n",
      "267\n",
      "268\n",
      "269\n",
      "270\n",
      "271\n",
      "272\n",
      "273\n",
      "274\n"
     ]
    }
   ],
   "source": [
    "k = 0\n",
    "for i in l[0]:\n",
    "    if i:\n",
    "        pass\n",
    "    else:\n",
    "        print(k)\n",
    "    k=k+1"
   ]
  },
  {
   "cell_type": "code",
   "execution_count": null,
   "metadata": {
    "collapsed": true
   },
   "outputs": [],
   "source": []
  }
 ],
 "metadata": {
  "kernelspec": {
   "display_name": "Python 3",
   "language": "python",
   "name": "python3"
  },
  "language_info": {
   "codemirror_mode": {
    "name": "ipython",
    "version": 3
   },
   "file_extension": ".py",
   "mimetype": "text/x-python",
   "name": "python",
   "nbconvert_exporter": "python",
   "pygments_lexer": "ipython3",
   "version": "3.5.2"
  }
 },
 "nbformat": 4,
 "nbformat_minor": 2
}
