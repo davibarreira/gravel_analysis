{
 "cells": [
  {
   "cell_type": "code",
   "execution_count": 28,
   "metadata": {
    "collapsed": true,
    "deletable": true,
    "editable": true
   },
   "outputs": [],
   "source": [
    "import os \n",
    "import pandas as pd\n",
    "import shutil\n",
    "\n",
    "filetexture    = []\n",
    "fileangularity = []\n",
    "photoangularity= []\n",
    "phototexture   = []\n",
    "\n",
    "for subdir, dirs, files in os.walk(os.getcwd()):\n",
    "    for file in files:\n",
    "        if 'Depth' in file:\n",
    "            filetexture.append(os.path.join(subdir,file))\n",
    "        if 'Grad_Ang' in file:\n",
    "            fileangularity.append(os.path.join(subdir,file))\n",
    "        if 'Angularity' in subdir and '.tif' in file:\n",
    "            photoangularity.append(os.path.join(subdir,file))\n",
    "        if 'Texture' in subdir and '.tif' in file:\n",
    "            phototexture.append(os.path.join(subdir,file))"
   ]
  },
  {
   "cell_type": "code",
   "execution_count": 29,
   "metadata": {
    "collapsed": false,
    "deletable": true,
    "editable": true
   },
   "outputs": [],
   "source": [
    "list_ = []\n",
    "for file in filetexture:\n",
    "    df = pd.read_csv(file,sep='\\t',names=['drop','drop2','texture','filename'])\n",
    "    df['empresa'] = file.split('/')[6]\n",
    "    df['size'] = file.split('/')[7]\n",
    "    list_.append(df)\n",
    "texture = pd.concat(list_).reset_index(drop=True).drop(['drop','drop2'],axis=1)\n",
    "texture['image'] = texture.filename.str.split('\\\\').str[-1]\n",
    "\n",
    "list_ = []\n",
    "for file in fileangularity:\n",
    "    df = pd.read_csv(file,sep='\\t',names=['angularity','drop','filename'])\n",
    "    df['empresa'] = file.split('/')[6]\n",
    "    df['size']    = file.split('/')[7]\n",
    "    list_.append(df)\n",
    "angularity = pd.concat(list_).reset_index(drop=True).drop('drop',axis=1)\n",
    "angularity['image'] = angularity.filename.str.split('\\\\').str[-1]\n"
   ]
  },
  {
   "cell_type": "code",
   "execution_count": 30,
   "metadata": {
    "collapsed": false,
    "deletable": true,
    "editable": true,
    "scrolled": true
   },
   "outputs": [
    {
     "data": {
      "text/html": [
       "<div>\n",
       "<table border=\"1\" class=\"dataframe\">\n",
       "  <thead>\n",
       "    <tr style=\"text-align: right;\">\n",
       "      <th></th>\n",
       "      <th>texture</th>\n",
       "      <th>filename</th>\n",
       "      <th>empresa</th>\n",
       "      <th>size</th>\n",
       "      <th>image</th>\n",
       "    </tr>\n",
       "  </thead>\n",
       "  <tbody>\n",
       "    <tr>\n",
       "      <th>count</th>\n",
       "      <td>1425.0</td>\n",
       "      <td>1425</td>\n",
       "      <td>1425</td>\n",
       "      <td>1425</td>\n",
       "      <td>1425</td>\n",
       "    </tr>\n",
       "    <tr>\n",
       "      <th>unique</th>\n",
       "      <td>825.0</td>\n",
       "      <td>1425</td>\n",
       "      <td>7</td>\n",
       "      <td>4</td>\n",
       "      <td>150</td>\n",
       "    </tr>\n",
       "    <tr>\n",
       "      <th>top</th>\n",
       "      <td>358.6</td>\n",
       "      <td>C:\\Documents and Settings\\Pine\\Desktop\\Lara\\Br...</td>\n",
       "      <td>ocs - pilhapulmão</td>\n",
       "      <td>12.5 (0.50)</td>\n",
       "      <td>Image_043.tif</td>\n",
       "    </tr>\n",
       "    <tr>\n",
       "      <th>freq</th>\n",
       "      <td>10.0</td>\n",
       "      <td>1</td>\n",
       "      <td>300</td>\n",
       "      <td>400</td>\n",
       "      <td>21</td>\n",
       "    </tr>\n",
       "  </tbody>\n",
       "</table>\n",
       "</div>"
      ],
      "text/plain": [
       "        texture                                           filename  \\\n",
       "count    1425.0                                               1425   \n",
       "unique    825.0                                               1425   \n",
       "top       358.6  C:\\Documents and Settings\\Pine\\Desktop\\Lara\\Br...   \n",
       "freq       10.0                                                  1   \n",
       "\n",
       "                  empresa         size          image  \n",
       "count                1425         1425           1425  \n",
       "unique                  7            4            150  \n",
       "top     ocs - pilhapulmão  12.5 (0.50)  Image_043.tif  \n",
       "freq                  300          400             21  "
      ]
     },
     "execution_count": 30,
     "metadata": {},
     "output_type": "execute_result"
    }
   ],
   "source": [
    "texture.describe()"
   ]
  },
  {
   "cell_type": "code",
   "execution_count": null,
   "metadata": {
    "collapsed": true,
    "deletable": true,
    "editable": true
   },
   "outputs": [],
   "source": []
  }
 ],
 "metadata": {
  "kernelspec": {
   "display_name": "Python 3",
   "language": "python",
   "name": "python3"
  },
  "language_info": {
   "codemirror_mode": {
    "name": "ipython",
    "version": 3
   },
   "file_extension": ".py",
   "mimetype": "text/x-python",
   "name": "python",
   "nbconvert_exporter": "python",
   "pygments_lexer": "ipython3",
   "version": "3.5.2"
  }
 },
 "nbformat": 4,
 "nbformat_minor": 2
}
