{
 "cells": [
  {
   "cell_type": "code",
   "execution_count": 2,
   "metadata": {
    "collapsed": true
   },
   "outputs": [],
   "source": [
    "#Import libraries\n",
    "%matplotlib inline\n",
    "import os\n",
    "import pandas as pd\n",
    "\n",
    "import matplotlib.image as mpimg\n",
    "import matplotlib.pyplot as plt\n",
    "import numpy as np\n",
    "from PIL import Image\n",
    "import tensorflow as tf\n",
    "import glob\n",
    "import numpy as np\n",
    "import sklearn as sk\n",
    "from scipy.misc import imresize"
   ]
  },
  {
   "cell_type": "code",
   "execution_count": 3,
   "metadata": {
    "collapsed": true,
    "scrolled": true
   },
   "outputs": [],
   "source": [
    "#Load images\n",
    "phototexture    = []\n",
    "\n",
    "folder=os.getcwd()+'/photos/'+'texture/'\n",
    "texture_dict = {}\n",
    "\n",
    "filelist = glob.glob(folder+'/*.png')\n",
    "textureimages = np.array([imresize(np.array(Image.open(fname).convert('RGBA')),10) for fname in filelist])"
   ]
  },
  {
   "cell_type": "code",
   "execution_count": 4,
   "metadata": {
    "collapsed": true
   },
   "outputs": [],
   "source": [
    "texturefiles = np.array([np.array(fname.split('/')[-1].replace('.png','')) for fname in filelist])\n",
    "texturefiles = list(map(int, texturefiles))"
   ]
  },
  {
   "cell_type": "code",
   "execution_count": 5,
   "metadata": {
    "collapsed": true
   },
   "outputs": [],
   "source": [
    "texture = pd.read_csv('texture.csv')\n",
    "texture = texture.drop(['Unnamed: 0'],axis=1)\n",
    "texture['texture'] = texture.texture.str.replace(',','.')\n",
    "texture['texture'] = pd.to_numeric(texture['texture'])\n",
    "texture['inx']   = texture.index"
   ]
  },
  {
   "cell_type": "code",
   "execution_count": 6,
   "metadata": {
    "collapsed": true
   },
   "outputs": [],
   "source": [
    "texturefiles = pd.DataFrame(texturefiles,columns=['inx'])"
   ]
  },
  {
   "cell_type": "code",
   "execution_count": 9,
   "metadata": {},
   "outputs": [],
   "source": [
    "texturedata = texturefiles.merge(texture,on='inx')"
   ]
  },
  {
   "cell_type": "code",
   "execution_count": 10,
   "metadata": {},
   "outputs": [],
   "source": [
    "texturedata = texturedata.drop(['filename','empresa','gravel_size','image','inx'],axis=1)"
   ]
  },
  {
   "cell_type": "code",
   "execution_count": 13,
   "metadata": {
    "collapsed": true
   },
   "outputs": [],
   "source": [
    "#texturedata['category'] = pd.cut(texturedata.texture,bins=[-1000,0,165,275,350,460,20000],labels=['Error', 'Polido',\n",
    "#                                             'Macio', 'Baixa Rugosidade', 'Rugosidade Moderada','Alta Rugosidade'])\n",
    "texturedata['category'] = pd.cut(texturedata.texture,bins=[-1000,0,165,275,350,460,20000],labels=[1, 2, 3, 4, 5,6])"
   ]
  },
  {
   "cell_type": "code",
   "execution_count": 15,
   "metadata": {
    "collapsed": true
   },
   "outputs": [],
   "source": [
    "X_train = textureimages[0:100]\n",
    "y_train = texturedata['category'][0:100]"
   ]
  },
  {
   "cell_type": "code",
   "execution_count": null,
   "metadata": {
    "collapsed": true
   },
   "outputs": [],
   "source": []
  }
 ],
 "metadata": {
  "kernelspec": {
   "display_name": "Python (machinepy3)",
   "language": "python",
   "name": "machinepy3"
  },
  "language_info": {
   "codemirror_mode": {
    "name": "ipython",
    "version": 3
   },
   "file_extension": ".py",
   "mimetype": "text/x-python",
   "name": "python",
   "nbconvert_exporter": "python",
   "pygments_lexer": "ipython3",
   "version": "3.5.2"
  }
 },
 "nbformat": 4,
 "nbformat_minor": 2
}
