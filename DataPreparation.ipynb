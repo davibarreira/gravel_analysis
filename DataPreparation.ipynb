{
 "cells": [
  {
   "cell_type": "code",
   "execution_count": 2,
   "metadata": {
    "collapsed": true
   },
   "outputs": [],
   "source": [
    "%matplotlib inline\n",
    "import os \n",
    "import pandas as pd\n",
    "import matplotlib.image as mpimg\n",
    "# import shutil\n",
    "import matplotlib.pyplot as plt\n",
    "import pickle\n",
    "import glob\n",
    "import numpy as np\n",
    "from PIL import Image\n",
    "import tensorflow as tf\n",
    "from scipy.misc import imresize"
   ]
  },
  {
   "cell_type": "code",
   "execution_count": 3,
   "metadata": {
    "collapsed": true
   },
   "outputs": [],
   "source": [
    "#Load images\n",
    "imagequality = 50 # This is the % reduction of image quality. 20 is equal to reducing the pixels to 20%\n",
    "\n",
    "phototexture    = []\n",
    "\n",
    "folder=os.getcwd()+'/photos/'+'texture/'\n",
    "texture_dict = {}\n",
    "\n",
    "filelist = glob.glob(folder+'/*.png')\n",
    "textureimages = np.array([imresize(np.array(Image.open(fname).convert('RGBA')),imagequality) for fname in filelist])\n",
    "texturefiles = np.array([np.array(fname.split('/')[-1].replace('.png','')) for fname in filelist])\n",
    "texturefiles = list(map(int, texturefiles))"
   ]
  },
  {
   "cell_type": "code",
   "execution_count": 3,
   "metadata": {
    "collapsed": true
   },
   "outputs": [],
   "source": [
    "texture = pd.read_csv('texture.csv')\n",
    "texture = texture.drop(['Unnamed: 0'],axis=1)\n",
    "texture['texture'] = texture.texture.str.replace(',','.')\n",
    "texture['texture'] = pd.to_numeric(texture['texture'])\n",
    "texture['inx']   = texture.index\n",
    "\n",
    "texturefiles = pd.DataFrame(texturefiles,columns=['inx'])\n",
    "texturedata = texturefiles.merge(texture,on='inx')\n",
    "\n",
    "errorimages = [1126,1132,1143]\n",
    "errorindex  = texturedata[texturedata.inx.isin(errorimages)].index.values\n",
    "texturedata = texturedata.drop(errorindex)\n",
    "\n",
    "texturedata = texturedata.drop(['filename','empresa','gravel_size','image','inx'],axis=1)\n",
    "texturedata['category'] = pd.cut(texturedata.texture,bins=[-0.01,165,275,350,460,20000],labels=[0, 1, 2, 3, 4])\n",
    "\n",
    "textureimages = np.delete(textureimages,errorindex,0)"
   ]
  },
  {
   "cell_type": "code",
   "execution_count": 4,
   "metadata": {
    "collapsed": true
   },
   "outputs": [],
   "source": [
    "#Binary data\n",
    "np.save('textureimagequality50.npy', textureimages)"
   ]
  },
  {
   "cell_type": "code",
   "execution_count": 5,
   "metadata": {
    "collapsed": true
   },
   "outputs": [],
   "source": [
    "texturedata.to_csv(\"texturedataprepared.csv\")"
   ]
  }
 ],
 "metadata": {
  "kernelspec": {
   "display_name": "Python (machinepy3)",
   "language": "python",
   "name": "machinepy3"
  },
  "language_info": {
   "codemirror_mode": {
    "name": "ipython",
    "version": 3
   },
   "file_extension": ".py",
   "mimetype": "text/x-python",
   "name": "python",
   "nbconvert_exporter": "python",
   "pygments_lexer": "ipython3",
   "version": "3.5.2"
  }
 },
 "nbformat": 4,
 "nbformat_minor": 2
}
