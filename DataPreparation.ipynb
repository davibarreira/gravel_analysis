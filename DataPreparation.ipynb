{
 "cells": [
  {
   "cell_type": "markdown",
   "metadata": {},
   "source": [
    "# Data Preparation"
   ]
  },
  {
   "cell_type": "markdown",
   "metadata": {},
   "source": [
    "## 1. Libraries"
   ]
  },
  {
   "cell_type": "code",
   "execution_count": 1,
   "metadata": {
    "collapsed": true
   },
   "outputs": [],
   "source": [
    "import os\n",
    "import pandas as pd\n",
    "import glob\n",
    "import numpy as np\n",
    "from PIL import Image\n",
    "from scipy.misc import imresize"
   ]
  },
  {
   "cell_type": "markdown",
   "metadata": {},
   "source": [
    "## 2.  Loading images"
   ]
  },
  {
   "cell_type": "code",
   "execution_count": 2,
   "metadata": {
    "collapsed": true
   },
   "outputs": [],
   "source": [
    "imagequality = 30    # This is the % reduction of image quality. 20 is equal to reducing the pixels to 20%\n",
    "\n",
    "phototexture    = [] \n",
    "\n",
    "folder=os.getcwd()+'/photos/'+'texture/' #Location of texture images\n",
    "\n",
    "filelist = glob.glob(folder+'/*.png') #Get the name of the files of each image\n",
    "\n",
    "# Import images with reduced quality to the textureimages variable\n",
    "textureimages = np.array([imresize(np.array(Image.open(fname).convert('RGBA')),imagequality) for fname in filelist])\n",
    "\n",
    "# Turn the name of each image in a number to be used as key for assigning the correct texture index\n",
    "texturefiles = np.array([np.array(fname.split('/')[-1].replace('.png','')) for fname in filelist])\n",
    "texturefiles = list(map(int, texturefiles))"
   ]
  },
  {
   "cell_type": "markdown",
   "metadata": {},
   "source": [
    "## 3. Importing texture file and assign correct image to the texture index"
   ]
  },
  {
   "cell_type": "code",
   "execution_count": 3,
   "metadata": {
    "collapsed": true
   },
   "outputs": [],
   "source": [
    "texture = pd.read_csv('texture.csv')\n",
    "texture = texture.drop(['Unnamed: 0'],axis=1)\n",
    "texture['texture'] = texture.texture.str.replace(',','.') # Original file in brazilian format (using comma for decimals)\n",
    "texture['texture'] = pd.to_numeric(texture['texture'])    # Data transformed to numerical format\n",
    "texture['inx']   = texture.index\n",
    "\n",
    "texturefiles = pd.DataFrame(texturefiles,columns=['inx'])\n",
    "texturedata = texturefiles.merge(texture,on='inx')"
   ]
  },
  {
   "cell_type": "markdown",
   "metadata": {},
   "source": [
    "## 4. Removing images that are errors"
   ]
  },
  {
   "cell_type": "code",
   "execution_count": 4,
   "metadata": {
    "collapsed": true
   },
   "outputs": [],
   "source": [
    "errorimages = [1126,1132,1143]\n",
    "errorindex  = texturedata[texturedata.inx.isin(errorimages)].index.values\n",
    "texturedata = texturedata.drop(errorindex)\n",
    "\n",
    "texturedata = texturedata.drop(['filename','empresa','gravel_size','image','inx'],axis=1)\n",
    "texturedata['category'] = pd.cut(texturedata.texture,bins=[-0.01,165,275,350,460,20000],labels=[0, 1, 2, 3, 4])\n",
    "\n",
    "textureimages = np.delete(textureimages,errorindex,0)"
   ]
  },
  {
   "cell_type": "markdown",
   "metadata": {},
   "source": [
    "## 5. Saving prepared data"
   ]
  },
  {
   "cell_type": "code",
   "execution_count": 5,
   "metadata": {
    "collapsed": true
   },
   "outputs": [],
   "source": [
    "#Binary data\n",
    "np.save('textureimagequality30.npy', textureimages)"
   ]
  },
  {
   "cell_type": "code",
   "execution_count": 5,
   "metadata": {
    "collapsed": true
   },
   "outputs": [],
   "source": [
    "texturedata.to_csv(\"texturedataprepared.csv\")"
   ]
  }
 ],
 "metadata": {
  "kernelspec": {
   "display_name": "Python (machinepy3)",
   "language": "python",
   "name": "machinepy3"
  },
  "language_info": {
   "codemirror_mode": {
    "name": "ipython",
    "version": 3
   },
   "file_extension": ".py",
   "mimetype": "text/x-python",
   "name": "python",
   "nbconvert_exporter": "python",
   "pygments_lexer": "ipython3",
   "version": "3.5.2"
  }
 },
 "nbformat": 4,
 "nbformat_minor": 2
}
