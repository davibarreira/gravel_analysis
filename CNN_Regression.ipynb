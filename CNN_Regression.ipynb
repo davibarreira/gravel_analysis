{
 "cells": [
  {
   "cell_type": "markdown",
   "metadata": {},
   "source": [
    "# Importing the necessary libraries"
   ]
  },
  {
   "cell_type": "code",
   "execution_count": 1,
   "metadata": {},
   "outputs": [
    {
     "name": "stderr",
     "output_type": "stream",
     "text": [
      "Using TensorFlow backend.\n"
     ]
    }
   ],
   "source": [
    "#Import libraries\n",
    "%matplotlib inline\n",
    "import os\n",
    "import pandas as pd\n",
    "\n",
    "import matplotlib.image as mpimg\n",
    "import matplotlib.pyplot as plt\n",
    "import numpy as np\n",
    "from PIL import Image\n",
    "import tensorflow as tf\n",
    "import glob\n",
    "import numpy as np\n",
    "from sklearn.model_selection import train_test_split\n",
    "from scipy.misc import imresize\n",
    "import keras\n",
    "import seaborn as sns"
   ]
  },
  {
   "cell_type": "code",
   "execution_count": 2,
   "metadata": {
    "collapsed": true
   },
   "outputs": [],
   "source": [
    "textureimages = np.load('textureimagequality20.npy')"
   ]
  },
  {
   "cell_type": "code",
   "execution_count": 3,
   "metadata": {
    "collapsed": true
   },
   "outputs": [],
   "source": [
    "#Load images\n",
    "folder=os.getcwd()+'/photos/'+'texture/'\n",
    "\n",
    "filelist = glob.glob(folder+'/*.png')\n",
    "texturefiles = np.array([np.array(fname.split('/')[-1].replace('.png','')) for fname in filelist])\n",
    "texturefiles = list(map(int, texturefiles))"
   ]
  },
  {
   "cell_type": "code",
   "execution_count": 13,
   "metadata": {
    "collapsed": true
   },
   "outputs": [],
   "source": [
    "texture = pd.read_csv('texture.csv')\n",
    "texture = texture.drop(['Unnamed: 0'],axis=1)\n",
    "texture['texture'] = texture.texture.str.replace(',','.')\n",
    "texture['texture'] = pd.to_numeric(texture['texture'])\n",
    "texture['inx']   = texture.index\n",
    "\n",
    "texturefiles = pd.DataFrame(texturefiles,columns=['inx'])\n",
    "texturedata = texturefiles.merge(texture,on='inx')\n",
    "\n",
    "errorimages = [1126,1132,1143]\n",
    "errorindex  = texturedata[texturedata.inx.isin(errorimages)].index.values\n",
    "texturedata = texturedata.drop(errorindex)\n",
    "texturedata = texturedata.drop(['filename','empresa','gravel_size','image'],axis=1)\n",
    "#texturedata = texturedata.drop(['filename','empresa','gravel_size','image','inx'],axis=1)\n",
    "texturedata['category'] = pd.cut(texturedata.texture,bins=[-0.01,165,275,350,460,20000],labels=[0, 1, 2, 3, 4])"
   ]
  },
  {
   "cell_type": "code",
   "execution_count": 15,
   "metadata": {
    "scrolled": false
   },
   "outputs": [
    {
     "data": {
      "text/plain": [
       "inx            52\n",
       "texture     578.5\n",
       "category        4\n",
       "Name: 1220, dtype: object"
      ]
     },
     "execution_count": 15,
     "metadata": {},
     "output_type": "execute_result"
    }
   ],
   "source": [
    "texturedata.iloc[1217]"
   ]
  },
  {
   "cell_type": "code",
   "execution_count": 5,
   "metadata": {
    "collapsed": true
   },
   "outputs": [],
   "source": [
    "texturedata.to_csv(\"texturedataprepared.csv\")"
   ]
  },
  {
   "cell_type": "code",
   "execution_count": 10,
   "metadata": {
    "collapsed": true
   },
   "outputs": [],
   "source": [
    "x_train = textureimages[:].astype('float32')/255\n",
    "y_train = texturedata['texture'][:]\n",
    "\n",
    "x_train, x_test, y_train, y_test = train_test_split(x_train, y_train, test_size=0.2, random_state=1)\n",
    "x_train, x_valid, y_train, y_valid = train_test_split(x_train, y_train, test_size=0.2, random_state=1)\n",
    "\n",
    "train_size, length, height, channels = x_train.shape"
   ]
  },
  {
   "cell_type": "code",
   "execution_count": 11,
   "metadata": {},
   "outputs": [
    {
     "name": "stdout",
     "output_type": "stream",
     "text": [
      "_________________________________________________________________\n",
      "Layer (type)                 Output Shape              Param #   \n",
      "=================================================================\n",
      "conv2d_1 (Conv2D)            (None, 96, 128, 48)       816       \n",
      "_________________________________________________________________\n",
      "max_pooling2d_1 (MaxPooling2 (None, 48, 64, 48)        0         \n",
      "_________________________________________________________________\n",
      "conv2d_2 (Conv2D)            (None, 48, 64, 96)        18528     \n",
      "_________________________________________________________________\n",
      "max_pooling2d_2 (MaxPooling2 (None, 24, 32, 96)        0         \n",
      "_________________________________________________________________\n",
      "conv2d_3 (Conv2D)            (None, 24, 32, 192)       73920     \n",
      "_________________________________________________________________\n",
      "max_pooling2d_3 (MaxPooling2 (None, 12, 16, 192)       0         \n",
      "_________________________________________________________________\n",
      "dropout_1 (Dropout)          (None, 12, 16, 192)       0         \n",
      "_________________________________________________________________\n",
      "flatten_1 (Flatten)          (None, 36864)             0         \n",
      "_________________________________________________________________\n",
      "dense_1 (Dense)              (None, 500)               18432500  \n",
      "_________________________________________________________________\n",
      "dropout_2 (Dropout)          (None, 500)               0         \n",
      "_________________________________________________________________\n",
      "dense_2 (Dense)              (None, 1)                 501       \n",
      "=================================================================\n",
      "Total params: 18,526,265\n",
      "Trainable params: 18,526,265\n",
      "Non-trainable params: 0\n",
      "_________________________________________________________________\n"
     ]
    }
   ],
   "source": [
    "from keras.models import Sequential\n",
    "from keras.layers import Conv2D, MaxPooling2D, Flatten, Dense, Dropout\n",
    "\n",
    "model = Sequential()\n",
    "model.add(Conv2D(filters=int(length/2), kernel_size=2, padding='same', activation='relu', \n",
    "                        input_shape=(length, height,channels)))\n",
    "model.add(MaxPooling2D(pool_size=2))\n",
    "model.add(Conv2D(filters=length, kernel_size=2, padding='same', activation='relu'))\n",
    "model.add(MaxPooling2D(pool_size=2))\n",
    "model.add(Conv2D(filters=length*2, kernel_size=2, padding='same', activation='relu'))\n",
    "model.add(MaxPooling2D(pool_size=2))\n",
    "model.add(Dropout(0.2))\n",
    "model.add(Flatten())\n",
    "model.add(Dense(1000, activation='relu'))\n",
    "model.add(Dense(1000, activation='relu'))\n",
    "model.add(Dense(500, activation='relu'))\n",
    "model.add(Dropout(0.2))\n",
    "model.add(Dense(1))\n",
    "\n",
    "model.summary()"
   ]
  },
  {
   "cell_type": "code",
   "execution_count": 12,
   "metadata": {
    "collapsed": true
   },
   "outputs": [],
   "source": [
    "from keras.callbacks import ModelCheckpoint\n",
    "from keras import backend\n",
    "def rsquared(y_true, y_pred):\n",
    "    residuals     =  backend.sum(backend.square(y_true - y_pred)) \n",
    "    mean_residual = backend.sum(backend.square(y_true - backend.mean(y_true))) \n",
    "    return (1 - residuals/(mean_residual))\n",
    "\n",
    "# compile the model\n",
    "model.compile(loss='mean_squared_error', optimizer='adam', \n",
    "                  metrics=[rsquared])\n",
    "\n",
    "checkpointer = ModelCheckpoint(filepath='model.weights.best.hdf5', verbose=1, \n",
    "                               save_best_only=True)\n",
    "\n"
   ]
  },
  {
   "cell_type": "code",
   "execution_count": 13,
   "metadata": {},
   "outputs": [
    {
     "name": "stdout",
     "output_type": "stream",
     "text": [
      "Train on 909 samples, validate on 228 samples\n",
      "Epoch 1/20\n",
      "Epoch 00000: val_loss improved from inf to 72300.45030, saving model to model.weights.best.hdf5\n",
      "30s - loss: 135334.9713 - rsquared: -5.8677e-01 - val_loss: 72300.4503 - val_rsquared: 0.0285\n",
      "Epoch 2/20\n",
      "Epoch 00001: val_loss did not improve\n",
      "29s - loss: 81600.4448 - rsquared: 0.0645 - val_loss: 73608.0923 - val_rsquared: -7.9942e-02\n",
      "Epoch 3/20\n",
      "Epoch 00002: val_loss improved from 72300.45030 to 56284.90625, saving model to model.weights.best.hdf5\n",
      "31s - loss: 74566.6994 - rsquared: 0.1350 - val_loss: 56284.9062 - val_rsquared: 0.2222\n",
      "Epoch 4/20\n",
      "Epoch 00003: val_loss improved from 56284.90625 to 33112.44814, saving model to model.weights.best.hdf5\n",
      "31s - loss: 53264.6185 - rsquared: 0.3831 - val_loss: 33112.4481 - val_rsquared: 0.4525\n",
      "Epoch 5/20\n",
      "Epoch 00004: val_loss improved from 33112.44814 to 17403.43090, saving model to model.weights.best.hdf5\n",
      "38s - loss: 28311.9043 - rsquared: 0.6646 - val_loss: 17403.4309 - val_rsquared: 0.6829\n",
      "Epoch 6/20\n",
      "Epoch 00005: val_loss improved from 17403.43090 to 15733.49070, saving model to model.weights.best.hdf5\n",
      "38s - loss: 18818.4716 - rsquared: 0.7712 - val_loss: 15733.4907 - val_rsquared: 0.7801\n",
      "Epoch 7/20\n",
      "Epoch 00006: val_loss improved from 15733.49070 to 13986.78575, saving model to model.weights.best.hdf5\n",
      "32s - loss: 15990.5096 - rsquared: 0.8061 - val_loss: 13986.7857 - val_rsquared: 0.7389\n",
      "Epoch 8/20\n",
      "Epoch 00007: val_loss improved from 13986.78575 to 9595.60452, saving model to model.weights.best.hdf5\n",
      "31s - loss: 14939.8566 - rsquared: 0.8186 - val_loss: 9595.6045 - val_rsquared: 0.8646\n",
      "Epoch 9/20\n",
      "Epoch 00008: val_loss improved from 9595.60452 to 6216.11398, saving model to model.weights.best.hdf5\n",
      "31s - loss: 9944.8050 - rsquared: 0.8832 - val_loss: 6216.1140 - val_rsquared: 0.9088\n",
      "Epoch 10/20\n",
      "Epoch 00009: val_loss improved from 6216.11398 to 3559.89927, saving model to model.weights.best.hdf5\n",
      "32s - loss: 7121.4142 - rsquared: 0.9060 - val_loss: 3559.8993 - val_rsquared: 0.9508\n",
      "Epoch 11/20\n",
      "Epoch 00010: val_loss improved from 3559.89927 to 2853.59493, saving model to model.weights.best.hdf5\n",
      "32s - loss: 7056.7307 - rsquared: 0.9186 - val_loss: 2853.5949 - val_rsquared: 0.9547\n",
      "Epoch 12/20\n",
      "Epoch 00011: val_loss improved from 2853.59493 to 2082.84514, saving model to model.weights.best.hdf5\n",
      "31s - loss: 4754.0562 - rsquared: 0.9376 - val_loss: 2082.8451 - val_rsquared: 0.9684\n",
      "Epoch 13/20\n",
      "Epoch 00012: val_loss did not improve\n",
      "30s - loss: 3885.8729 - rsquared: 0.9526 - val_loss: 2721.8448 - val_rsquared: 0.9553\n",
      "Epoch 14/20\n",
      "Epoch 00013: val_loss did not improve\n",
      "30s - loss: 3293.3308 - rsquared: 0.9601 - val_loss: 2219.0568 - val_rsquared: 0.9634\n",
      "Epoch 15/20\n",
      "Epoch 00014: val_loss did not improve\n",
      "30s - loss: 3352.1469 - rsquared: 0.9561 - val_loss: 2623.3055 - val_rsquared: 0.9617\n",
      "Epoch 16/20\n",
      "Epoch 00015: val_loss improved from 2082.84514 to 1306.08201, saving model to model.weights.best.hdf5\n",
      "32s - loss: 2789.5678 - rsquared: 0.9652 - val_loss: 1306.0820 - val_rsquared: 0.9812\n",
      "Epoch 17/20\n",
      "Epoch 00016: val_loss improved from 1306.08201 to 1268.29794, saving model to model.weights.best.hdf5\n",
      "31s - loss: 3133.4384 - rsquared: 0.9613 - val_loss: 1268.2979 - val_rsquared: 0.9801\n",
      "Epoch 18/20\n",
      "Epoch 00017: val_loss did not improve\n",
      "30s - loss: 2882.8405 - rsquared: 0.9634 - val_loss: 1779.8719 - val_rsquared: 0.9745\n",
      "Epoch 19/20\n",
      "Epoch 00018: val_loss did not improve\n",
      "30s - loss: 2757.5374 - rsquared: 0.9636 - val_loss: 4478.6442 - val_rsquared: 0.9344\n",
      "Epoch 20/20\n",
      "Epoch 00019: val_loss did not improve\n",
      "31s - loss: 3962.3234 - rsquared: 0.9495 - val_loss: 1987.7858 - val_rsquared: 0.9731\n"
     ]
    }
   ],
   "source": [
    "hist = model.fit(x_train, y_train, batch_size=30, epochs=20,\n",
    "          validation_data=(x_valid, y_valid), callbacks=[checkpointer], \n",
    "          verbose=2, shuffle=True)"
   ]
  },
  {
   "cell_type": "code",
   "execution_count": 14,
   "metadata": {
    "collapsed": true
   },
   "outputs": [],
   "source": [
    "# load the weights that yielded the best validation accuracy\n",
    "model.load_weights('model.weights.best.hdf5')"
   ]
  },
  {
   "cell_type": "code",
   "execution_count": 15,
   "metadata": {},
   "outputs": [
    {
     "name": "stdout",
     "output_type": "stream",
     "text": [
      "\n",
      " Test accuracy: 0.987557741424\n"
     ]
    }
   ],
   "source": [
    "# evaluate and print test accuracy\n",
    "score = model.evaluate(x_test, y_test, verbose=0)\n",
    "print('\\n', 'Test accuracy:', score[1])"
   ]
  },
  {
   "cell_type": "code",
   "execution_count": 16,
   "metadata": {},
   "outputs": [
    {
     "data": {
      "text/plain": [
       "0.98832604954766201"
      ]
     },
     "execution_count": 16,
     "metadata": {},
     "output_type": "execute_result"
    }
   ],
   "source": [
    "from sklearn.metrics import r2_score\n",
    "\n",
    "y_hat = model.predict(x_test)\n",
    "\n",
    "r2_score(y_test,y_hat)"
   ]
  },
  {
   "cell_type": "code",
   "execution_count": 17,
   "metadata": {},
   "outputs": [
    {
     "data": {
      "text/plain": [
       "<matplotlib.axes._subplots.AxesSubplot at 0x7fda41c68c88>"
      ]
     },
     "execution_count": 17,
     "metadata": {},
     "output_type": "execute_result"
    },
    {
     "data": {
      "image/png": "[encoded data removed]",
      "text/plain": [
       "<matplotlib.figure.Figure at 0x7fda41270cc0>"
      ]
     },
     "metadata": {},
     "output_type": "display_data"
    }
   ],
   "source": [
    "sns.distplot(y_hat)\n",
    "sns.distplot(y_test)"
   ]
  },
  {
   "cell_type": "code",
   "execution_count": 18,
   "metadata": {},
   "outputs": [
    {
     "data": {
      "text/plain": [
       "[<matplotlib.lines.Line2D at 0x7fda2f174710>]"
      ]
     },
     "execution_count": 18,
     "metadata": {},
     "output_type": "execute_result"
    },
    {
     "data": {
      "image/png": "[encoded data removed]",
      "text/plain": [
       "<matplotlib.figure.Figure at 0x7fda4159a710>"
      ]
     },
     "metadata": {},
     "output_type": "display_data"
    }
   ],
   "source": [
    "y_test = y_test.values.reshape((y_test.shape[0],1))\n",
    "residual = y_test - y_hat\n",
    "plt.plot(y_test,residual,'o')"
   ]
  },
  {
   "cell_type": "code",
   "execution_count": 19,
   "metadata": {},
   "outputs": [
    {
     "data": {
      "text/plain": [
       "24.762347944828505"
      ]
     },
     "execution_count": 19,
     "metadata": {},
     "output_type": "execute_result"
    }
   ],
   "source": [
    "np.mean((residual**2)**0.5)"
   ]
  },
  {
   "cell_type": "code",
   "execution_count": 20,
   "metadata": {},
   "outputs": [
    {
     "data": {
      "text/plain": [
       "<matplotlib.axes._subplots.AxesSubplot at 0x7fda2f105d30>"
      ]
     },
     "execution_count": 20,
     "metadata": {},
     "output_type": "execute_result"
    },
    {
     "data": {
      "image/png": "[encoded data removed]",
      "text/plain": [
       "<matplotlib.figure.Figure at 0x7fda41589908>"
      ]
     },
     "metadata": {},
     "output_type": "display_data"
    }
   ],
   "source": [
    "sns.distplot(residual)"
   ]
  },
  {
   "cell_type": "code",
   "execution_count": 103,
   "metadata": {
    "collapsed": true,
    "scrolled": false
   },
   "outputs": [],
   "source": [
    "# Categorical classification\n",
    "df = pd.DataFrame(y_test)\n",
    "category_test = pd.cut(df[0],bins=[-0.01,200,500,750,20000],labels=[0, 1, 2, 3])\n",
    "df = pd.DataFrame(y_hat)\n",
    "category_pred = pd.cut(df[0],bins=[-0.01,200,500,750,20000],labels=[0, 1, 2, 3])\n",
    "category_test = category_test.values.astype(dtype='int')\n",
    "category_pred = category_pred.values.astype(dtype='int')\n",
    "accuracy      = 1 - np.sum(((category_pred - category_test)**2)**0.5)/len(category_pred) #penalized by\n",
    "                                                                                         #distance of classification"
   ]
  },
  {
   "cell_type": "code",
   "execution_count": null,
   "metadata": {
    "collapsed": true
   },
   "outputs": [],
   "source": []
  }
 ],
 "metadata": {
  "kernelspec": {
   "display_name": "Python (machinepy3)",
   "language": "python",
   "name": "machinepy3"
  },
  "language_info": {
   "codemirror_mode": {
    "name": "ipython",
    "version": 3
   },
   "file_extension": ".py",
   "mimetype": "text/x-python",
   "name": "python",
   "nbconvert_exporter": "python",
   "pygments_lexer": "ipython3",
   "version": "3.5.2"
  }
 },
 "nbformat": 4,
 "nbformat_minor": 2
}
