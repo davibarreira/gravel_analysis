{
 "cells": [
  {
   "cell_type": "markdown",
   "metadata": {},
   "source": [
    "# Training models"
   ]
  },
  {
   "cell_type": "markdown",
   "metadata": {},
   "source": [
    "## 1. Importing libraries"
   ]
  },
  {
   "cell_type": "code",
   "execution_count": 1,
   "metadata": {},
   "outputs": [
    {
     "name": "stderr",
     "output_type": "stream",
     "text": [
      "Using TensorFlow backend.\n"
     ]
    }
   ],
   "source": [
    "#Import libraries\n",
    "%matplotlib inline\n",
    "import pandas as pd\n",
    "import seaborn as sns\n",
    "import matplotlib.pyplot as plt\n",
    "import numpy as np\n",
    "\n",
    "\n",
    "import numpy as np\n",
    "from sklearn.model_selection import train_test_split\n",
    "\n",
    "\n",
    "from keras.models import Sequential\n",
    "from keras.layers import Conv2D, MaxPooling2D, Flatten, Dense, Dropout\n",
    "\n",
    "from keras.callbacks import ModelCheckpoint\n",
    "from keras import backend\n",
    "\n",
    "from sklearn.metrics import r2_score"
   ]
  },
  {
   "cell_type": "markdown",
   "metadata": {},
   "source": [
    "## 2. Importing and preparing the dataset"
   ]
  },
  {
   "cell_type": "markdown",
   "metadata": {},
   "source": [
    "### Importing"
   ]
  },
  {
   "cell_type": "code",
   "execution_count": 2,
   "metadata": {
    "collapsed": true
   },
   "outputs": [],
   "source": [
    "textureimages = np.load('textureimagequality20.npy') # Images with 20% pixel size\n",
    "texturedata   = pd.read_csv('texturedataprepared.csv') # Texture index data"
   ]
  },
  {
   "cell_type": "markdown",
   "metadata": {},
   "source": [
    "### Data augmentation"
   ]
  },
  {
   "cell_type": "markdown",
   "metadata": {},
   "source": [
    "Rotate the images 180 degree and keep the same texture index as the original image."
   ]
  },
  {
   "cell_type": "code",
   "execution_count": 3,
   "metadata": {
    "collapsed": true
   },
   "outputs": [],
   "source": [
    "texturedata = texturedata.append(texturedata)\n",
    "textureimages = np.append(textureimages,np.rot90(textureimages,4,axes=(1,0)),axis=0)"
   ]
  },
  {
   "cell_type": "markdown",
   "metadata": {},
   "source": [
    "### Divide the dataset in trainning set, validation set and test set"
   ]
  },
  {
   "cell_type": "code",
   "execution_count": 4,
   "metadata": {
    "collapsed": true
   },
   "outputs": [],
   "source": [
    "x_train = textureimages[:].astype('float32')/255\n",
    "y_train = texturedata['texture'][:].values\n",
    "\n",
    "x_train, x_test, y_train, y_test = train_test_split(x_train, y_train, test_size=0.2, random_state=1)\n",
    "x_train, x_valid, y_train, y_valid = train_test_split(x_train, y_train, test_size=0.2, random_state=1)\n",
    "\n",
    "train_size, length, height, channels = x_train.shape"
   ]
  },
  {
   "cell_type": "markdown",
   "metadata": {},
   "source": [
    "### Create function of *R-squared* metric to be used by the models"
   ]
  },
  {
   "cell_type": "code",
   "execution_count": 2,
   "metadata": {
    "collapsed": true
   },
   "outputs": [],
   "source": [
    "def rsquared(y_true, y_pred):\n",
    "    residuals     =  backend.sum(backend.square(y_true - y_pred)) \n",
    "    mean_residual = backend.sum(backend.square(y_true - backend.mean(y_true))) \n",
    "    return (1 - residuals/(mean_residual))"
   ]
  },
  {
   "cell_type": "markdown",
   "metadata": {},
   "source": [
    "## 3. Trainning and Evaluating Models"
   ]
  },
  {
   "cell_type": "markdown",
   "metadata": {},
   "source": [
    "### 3.1 Vanilla Neural Network"
   ]
  },
  {
   "cell_type": "markdown",
   "metadata": {},
   "source": [
    "Train the data in a simple neural network to use as baseline for further assessment."
   ]
  },
  {
   "cell_type": "code",
   "execution_count": 11,
   "metadata": {},
   "outputs": [
    {
     "name": "stdout",
     "output_type": "stream",
     "text": [
      "_________________________________________________________________\n",
      "Layer (type)                 Output Shape              Param #   \n",
      "=================================================================\n",
      "flatten_2 (Flatten)          (None, 49152)             0         \n",
      "_________________________________________________________________\n",
      "dense_3 (Dense)              (None, 1000)              49153000  \n",
      "_________________________________________________________________\n",
      "dropout_2 (Dropout)          (None, 1000)              0         \n",
      "_________________________________________________________________\n",
      "dense_4 (Dense)              (None, 1)                 1001      \n",
      "=================================================================\n",
      "Total params: 49,154,001\n",
      "Trainable params: 49,154,001\n",
      "Non-trainable params: 0\n",
      "_________________________________________________________________\n"
     ]
    }
   ],
   "source": [
    "model = Sequential()\n",
    "model.add(Flatten(input_shape = x_train.shape[1:]))\n",
    "model.add(Dense(1000, activation='relu'))\n",
    "model.add(Dropout(0.2))\n",
    "model.add(Dense(1))\n",
    "\n",
    "model.summary()"
   ]
  },
  {
   "cell_type": "code",
   "execution_count": 12,
   "metadata": {
    "collapsed": true
   },
   "outputs": [],
   "source": [
    "# compile the model\n",
    "model.compile(loss='mean_squared_error', optimizer='adam', \n",
    "                  metrics=[rsquared])\n",
    "\n",
    "checkpointer = ModelCheckpoint(filepath='model.weights.vanilla.hdf5', verbose=1, \n",
    "                               save_best_only=True)"
   ]
  },
  {
   "cell_type": "code",
   "execution_count": 13,
   "metadata": {},
   "outputs": [
    {
     "name": "stdout",
     "output_type": "stream",
     "text": [
      "Train on 1820 samples, validate on 455 samples\n",
      "Epoch 1/20\n",
      "Epoch 00000: val_loss improved from inf to 95601.18261, saving model to model.weights.vanilla.hdf5\n",
      "35s - loss: 101269.3158 - rsquared: -2.3691e-01 - val_loss: 95601.1826 - val_rsquared: -9.4638e-02\n",
      "Epoch 2/20\n",
      "Epoch 00001: val_loss improved from 95601.18261 to 95455.83851, saving model to model.weights.vanilla.hdf5\n",
      "41s - loss: 91164.5915 - rsquared: -1.3527e-01 - val_loss: 95455.8385 - val_rsquared: -6.6544e-02\n",
      "Epoch 3/20\n",
      "Epoch 00002: val_loss did not improve\n",
      "37s - loss: 88478.7595 - rsquared: -6.3014e-02 - val_loss: 97321.2374 - val_rsquared: -7.9394e-02\n",
      "Epoch 4/20\n",
      "Epoch 00003: val_loss did not improve\n",
      "35s - loss: 92711.0504 - rsquared: -1.6098e-01 - val_loss: 98615.2568 - val_rsquared: -9.0852e-02\n",
      "Epoch 5/20\n",
      "Epoch 00004: val_loss did not improve\n",
      "37s - loss: 87480.6150 - rsquared: -5.4899e-02 - val_loss: 97516.7025 - val_rsquared: -8.0829e-02\n",
      "Epoch 6/20\n",
      "Epoch 00005: val_loss did not improve\n",
      "40s - loss: 87910.3261 - rsquared: -6.6188e-02 - val_loss: 100792.9207 - val_rsquared: -1.1179e-01\n",
      "Epoch 7/20\n",
      "Epoch 00006: val_loss did not improve\n",
      "37s - loss: 86739.2023 - rsquared: -3.9651e-02 - val_loss: 104730.9664 - val_rsquared: -1.5255e-01\n",
      "Epoch 8/20\n",
      "Epoch 00007: val_loss improved from 95455.83851 to 94202.40161, saving model to model.weights.vanilla.hdf5\n",
      "41s - loss: 88161.7659 - rsquared: -6.2392e-02 - val_loss: 94202.4016 - val_rsquared: -5.7714e-02\n",
      "Epoch 9/20\n",
      "Epoch 00008: val_loss improved from 94202.40161 to 94167.86633, saving model to model.weights.vanilla.hdf5\n",
      "41s - loss: 89708.3342 - rsquared: -7.2410e-02 - val_loss: 94167.8663 - val_rsquared: -5.7427e-02\n",
      "Epoch 10/20\n",
      "Epoch 00009: val_loss did not improve\n",
      "36s - loss: 87905.9438 - rsquared: -7.9951e-02 - val_loss: 96654.9135 - val_rsquared: -1.2359e-01\n",
      "Epoch 11/20\n",
      "Epoch 00010: val_loss did not improve\n",
      "36s - loss: 86893.0363 - rsquared: -5.2718e-02 - val_loss: 95635.1551 - val_rsquared: -6.4907e-02\n",
      "Epoch 12/20\n",
      "Epoch 00011: val_loss did not improve\n",
      "36s - loss: 86724.4297 - rsquared: -4.0373e-02 - val_loss: 94399.9943 - val_rsquared: -5.6456e-02\n",
      "Epoch 13/20\n",
      "Epoch 00012: val_loss did not improve\n",
      "36s - loss: 86601.7458 - rsquared: -3.6116e-02 - val_loss: 94173.0886 - val_rsquared: -5.4683e-02\n",
      "Epoch 14/20\n",
      "Epoch 00013: val_loss improved from 94167.86633 to 93108.97115, saving model to model.weights.vanilla.hdf5\n",
      "40s - loss: 86229.2602 - rsquared: -4.2770e-02 - val_loss: 93108.9712 - val_rsquared: -5.5259e-02\n",
      "Epoch 15/20\n",
      "Epoch 00014: val_loss did not improve\n",
      "35s - loss: 85358.6263 - rsquared: -2.0125e-02 - val_loss: 93965.2638 - val_rsquared: -5.2565e-02\n",
      "Epoch 16/20\n",
      "Epoch 00015: val_loss did not improve\n",
      "36s - loss: 85331.2808 - rsquared: -2.8674e-02 - val_loss: 102256.0484 - val_rsquared: -2.1787e-01\n",
      "Epoch 17/20\n",
      "Epoch 00016: val_loss did not improve\n",
      "36s - loss: 91473.9992 - rsquared: -9.9425e-02 - val_loss: 94489.8145 - val_rsquared: -9.1239e-02\n",
      "Epoch 18/20\n",
      "Epoch 00017: val_loss improved from 93108.97115 to 92802.58448, saving model to model.weights.vanilla.hdf5\n",
      "41s - loss: 86480.4795 - rsquared: -5.1111e-02 - val_loss: 92802.5845 - val_rsquared: -5.3296e-02\n",
      "Epoch 19/20\n",
      "Epoch 00018: val_loss did not improve\n",
      "37s - loss: 84910.4045 - rsquared: -2.8134e-02 - val_loss: 93078.3456 - val_rsquared: -6.7318e-02\n",
      "Epoch 20/20\n",
      "Epoch 00019: val_loss improved from 92802.58448 to 92324.21617, saving model to model.weights.vanilla.hdf5\n",
      "42s - loss: 84244.6606 - rsquared: 0.0018 - val_loss: 92324.2162 - val_rsquared: -4.4926e-02\n"
     ]
    }
   ],
   "source": [
    "hist = model.fit(x_train, y_train, batch_size=30, epochs=20,\n",
    "          validation_data=(x_valid, y_valid), callbacks=[checkpointer], \n",
    "          verbose=2, shuffle=True)"
   ]
  },
  {
   "cell_type": "code",
   "execution_count": 14,
   "metadata": {
    "collapsed": true
   },
   "outputs": [],
   "source": [
    "# load the weights that yielded the best validation accuracy\n",
    "model.load_weights('model.weights.vanilla.hdf5')"
   ]
  },
  {
   "cell_type": "markdown",
   "metadata": {},
   "source": [
    "Evaluating the model according to the established metrics."
   ]
  },
  {
   "cell_type": "code",
   "execution_count": 44,
   "metadata": {
    "scrolled": false
   },
   "outputs": [
    {
     "name": "stdout",
     "output_type": "stream",
     "text": [
      "R-Squared =  0.0300060859605\n",
      "MAE       =  235.669926187\n"
     ]
    }
   ],
   "source": [
    "y_hat = model.predict(x_test) # Model prediction\n",
    "r2_vanilla = r2_score(y_test,y_hat) # R-squared\n",
    "\n",
    "y_test = y_test.reshape((y_test.shape[0],1)) # Adjust shape of array\n",
    "\n",
    "residual = y_test - y_hat # Calculating the residuals from the real and the predicted\n",
    "mae_vanilla      = np.mean((residual**2)**0.5) # Calculating the Mean Absolute Error\n",
    "\n",
    "print(\"R-Squared = \", r2_vanilla)\n",
    "print(\"MAE       = \", mae_vanilla)"
   ]
  },
  {
   "cell_type": "code",
   "execution_count": 60,
   "metadata": {},
   "outputs": [
    {
     "name": "stdout",
     "output_type": "stream",
     "text": [
      "Test set average   =  495.358699473\n",
      "Prediction average =  499.508\n"
     ]
    },
    {
     "data": {
      "image/png": "[encoded data removed]",
      "text/plain": [
       "<matplotlib.figure.Figure at 0x7f98b8ad1c50>"
      ]
     },
     "metadata": {},
     "output_type": "display_data"
    }
   ],
   "source": [
    "# Visualizing the prediction distribution and the test set distribution\n",
    "sns.distplot(y_hat,kde=False,norm_hist=True)\n",
    "sns.distplot(y_test,kde=False,norm_hist=True)\n",
    "print(\"Test set average   = \",np.average(y_test))\n",
    "print(\"Prediction average = \",np.average(y_hat))"
   ]
  },
  {
   "cell_type": "markdown",
   "metadata": {},
   "source": [
    "As can be seen, the Vanilla Neural Network model doesn't perform very well. What it does is predict that the texture will be around the average value of the whole data."
   ]
  },
  {
   "cell_type": "markdown",
   "metadata": {},
   "source": [
    "### 3.2 Best CNN Model"
   ]
  },
  {
   "cell_type": "markdown",
   "metadata": {},
   "source": [
    "The original architecture used for the CNN was from https://github.com/udacity/aind2-cnn/blob/master/cifar10-classification/cifar10_mlp.ipynb."
   ]
  },
  {
   "cell_type": "markdown",
   "metadata": {},
   "source": [
    "Based on this initial model, several CNN architectures were tested. The models were assessed in terms of R-Squared metric and Mean Absolute Error. The model that gave the best results consisted in adding two more *Dense Layers* and decreasing the *Dropout* probability to 0.2."
   ]
  },
  {
   "cell_type": "code",
   "execution_count": 6,
   "metadata": {},
   "outputs": [
    {
     "name": "stdout",
     "output_type": "stream",
     "text": [
      "_________________________________________________________________\n",
      "Layer (type)                 Output Shape              Param #   \n",
      "=================================================================\n",
      "conv2d_1 (Conv2D)            (None, 96, 128, 48)       816       \n",
      "_________________________________________________________________\n",
      "max_pooling2d_1 (MaxPooling2 (None, 48, 64, 48)        0         \n",
      "_________________________________________________________________\n",
      "conv2d_2 (Conv2D)            (None, 48, 64, 96)        18528     \n",
      "_________________________________________________________________\n",
      "max_pooling2d_2 (MaxPooling2 (None, 24, 32, 96)        0         \n",
      "_________________________________________________________________\n",
      "conv2d_3 (Conv2D)            (None, 24, 32, 192)       73920     \n",
      "_________________________________________________________________\n",
      "max_pooling2d_3 (MaxPooling2 (None, 12, 16, 192)       0         \n",
      "_________________________________________________________________\n",
      "dropout_1 (Dropout)          (None, 12, 16, 192)       0         \n",
      "_________________________________________________________________\n",
      "flatten_1 (Flatten)          (None, 36864)             0         \n",
      "_________________________________________________________________\n",
      "dense_1 (Dense)              (None, 1000)              36865000  \n",
      "_________________________________________________________________\n",
      "dense_2 (Dense)              (None, 1000)              1001000   \n",
      "_________________________________________________________________\n",
      "dense_3 (Dense)              (None, 500)               500500    \n",
      "_________________________________________________________________\n",
      "dropout_2 (Dropout)          (None, 500)               0         \n",
      "_________________________________________________________________\n",
      "dense_4 (Dense)              (None, 1)                 501       \n",
      "=================================================================\n",
      "Total params: 38,460,265\n",
      "Trainable params: 38,460,265\n",
      "Non-trainable params: 0\n",
      "_________________________________________________________________\n"
     ]
    }
   ],
   "source": [
    "model = Sequential()\n",
    "model.add(Conv2D(filters=int(length/2), kernel_size=2, padding='same', activation='relu', \n",
    "                        input_shape=(length, height,channels)))\n",
    "model.add(MaxPooling2D(pool_size=2))\n",
    "model.add(Conv2D(filters=length, kernel_size=2, padding='same', activation='relu'))\n",
    "model.add(MaxPooling2D(pool_size=2))\n",
    "model.add(Conv2D(filters=length*2, kernel_size=2, padding='same', activation='relu'))\n",
    "model.add(MaxPooling2D(pool_size=2))\n",
    "model.add(Dropout(0.2))\n",
    "model.add(Flatten())\n",
    "model.add(Dense(1000, activation='relu')) # Added\n",
    "model.add(Dense(1000, activation='relu')) # Added\n",
    "model.add(Dense(500, activation='relu'))\n",
    "model.add(Dropout(0.2))\n",
    "\n",
    "model.add(Dense(1))\n",
    "\n",
    "model.summary()"
   ]
  },
  {
   "cell_type": "code",
   "execution_count": 7,
   "metadata": {
    "collapsed": true
   },
   "outputs": [],
   "source": [
    "# compile the model\n",
    "model.compile(loss='mean_squared_error', optimizer='adam', \n",
    "                  metrics=[rsquared])\n",
    "\n",
    "checkpointer = ModelCheckpoint(filepath='model.weights.cnn.hdf5', verbose=1, \n",
    "                               save_best_only=True)\n",
    "\n"
   ]
  },
  {
   "cell_type": "code",
   "execution_count": 8,
   "metadata": {},
   "outputs": [
    {
     "name": "stdout",
     "output_type": "stream",
     "text": [
      "Train on 1820 samples, validate on 455 samples\n",
      "Epoch 1/20\n",
      "Epoch 00000: val_loss improved from inf to 82312.17067, saving model to model.weights.cnn.hdf5\n",
      "12s - loss: 118895.7236 - rsquared: -4.6486e-01 - val_loss: 82312.1707 - val_rsquared: 0.0886\n",
      "Epoch 2/20\n",
      "Epoch 00001: val_loss improved from 82312.17067 to 34931.65048, saving model to model.weights.cnn.hdf5\n",
      "11s - loss: 58522.3080 - rsquared: 0.2941 - val_loss: 34931.6505 - val_rsquared: 0.6172\n",
      "Epoch 3/20\n",
      "Epoch 00002: val_loss improved from 34931.65048 to 17105.92042, saving model to model.weights.cnn.hdf5\n",
      "11s - loss: 13184.2611 - rsquared: 0.8299 - val_loss: 17105.9204 - val_rsquared: 0.7982\n",
      "Epoch 4/20\n",
      "Epoch 00003: val_loss improved from 17105.92042 to 2174.28658, saving model to model.weights.cnn.hdf5\n",
      "11s - loss: 5408.4255 - rsquared: 0.9329 - val_loss: 2174.2866 - val_rsquared: 0.9735\n",
      "Epoch 5/20\n",
      "Epoch 00004: val_loss improved from 2174.28658 to 1459.80033, saving model to model.weights.cnn.hdf5\n",
      "11s - loss: 2877.3261 - rsquared: 0.9616 - val_loss: 1459.8003 - val_rsquared: 0.9821\n",
      "Epoch 6/20\n",
      "Epoch 00005: val_loss improved from 1459.80033 to 1136.26787, saving model to model.weights.cnn.hdf5\n",
      "11s - loss: 2525.2735 - rsquared: 0.9681 - val_loss: 1136.2679 - val_rsquared: 0.9868\n",
      "Epoch 7/20\n",
      "Epoch 00006: val_loss did not improve\n",
      "6s - loss: 2073.5610 - rsquared: 0.9735 - val_loss: 4229.2692 - val_rsquared: 0.9508\n",
      "Epoch 8/20\n",
      "Epoch 00007: val_loss did not improve\n",
      "6s - loss: 3663.6915 - rsquared: 0.9511 - val_loss: 3015.8001 - val_rsquared: 0.9637\n",
      "Epoch 9/20\n",
      "Epoch 00008: val_loss did not improve\n",
      "6s - loss: 5662.0062 - rsquared: 0.9320 - val_loss: 2241.6354 - val_rsquared: 0.9716\n",
      "Epoch 10/20\n",
      "Epoch 00009: val_loss did not improve\n",
      "6s - loss: 2800.3692 - rsquared: 0.9634 - val_loss: 4308.8219 - val_rsquared: 0.9464\n",
      "Epoch 11/20\n",
      "Epoch 00010: val_loss did not improve\n",
      "6s - loss: 6145.7325 - rsquared: 0.9254 - val_loss: 1230.2965 - val_rsquared: 0.9846\n",
      "Epoch 12/20\n",
      "Epoch 00011: val_loss did not improve\n",
      "6s - loss: 1628.7504 - rsquared: 0.9791 - val_loss: 1978.5773 - val_rsquared: 0.9774\n",
      "Epoch 13/20\n",
      "Epoch 00012: val_loss did not improve\n",
      "6s - loss: 1960.8605 - rsquared: 0.9744 - val_loss: 3616.2560 - val_rsquared: 0.9581\n",
      "Epoch 14/20\n",
      "Epoch 00013: val_loss improved from 1136.26787 to 801.18909, saving model to model.weights.cnn.hdf5\n",
      "11s - loss: 3021.9807 - rsquared: 0.9619 - val_loss: 801.1891 - val_rsquared: 0.9903\n",
      "Epoch 15/20\n",
      "Epoch 00014: val_loss did not improve\n",
      "6s - loss: 1526.4072 - rsquared: 0.9806 - val_loss: 1899.7654 - val_rsquared: 0.9770\n",
      "Epoch 16/20\n",
      "Epoch 00015: val_loss did not improve\n",
      "6s - loss: 1861.3548 - rsquared: 0.9756 - val_loss: 14932.8657 - val_rsquared: 0.8245\n",
      "Epoch 17/20\n",
      "Epoch 00016: val_loss did not improve\n",
      "6s - loss: 5334.0775 - rsquared: 0.9347 - val_loss: 2059.5521 - val_rsquared: 0.9770\n",
      "Epoch 18/20\n",
      "Epoch 00017: val_loss improved from 801.18909 to 609.49070, saving model to model.weights.cnn.hdf5\n",
      "11s - loss: 1907.6352 - rsquared: 0.9756 - val_loss: 609.4907 - val_rsquared: 0.9930\n",
      "Epoch 19/20\n",
      "Epoch 00018: val_loss did not improve\n",
      "6s - loss: 2750.8571 - rsquared: 0.9646 - val_loss: 1023.5746 - val_rsquared: 0.9885\n",
      "Epoch 20/20\n",
      "Epoch 00019: val_loss did not improve\n",
      "6s - loss: 1140.7542 - rsquared: 0.9859 - val_loss: 1064.7353 - val_rsquared: 0.9884\n"
     ]
    }
   ],
   "source": [
    "hist = model.fit(x_train, y_train, batch_size=30, epochs=20,\n",
    "          validation_data=(x_valid, y_valid), callbacks=[checkpointer], \n",
    "          verbose=2, shuffle=True)"
   ]
  },
  {
   "cell_type": "code",
   "execution_count": 9,
   "metadata": {
    "collapsed": true
   },
   "outputs": [],
   "source": [
    "# load the weights that yielded the best validation accuracy\n",
    "model.load_weights('model.weights.cnn.hdf5')"
   ]
  },
  {
   "cell_type": "code",
   "execution_count": 10,
   "metadata": {},
   "outputs": [
    {
     "name": "stdout",
     "output_type": "stream",
     "text": [
      "R-Squared =  0.993795849307\n",
      "MAE       =  18.284718072\n"
     ]
    }
   ],
   "source": [
    "y_hat = model.predict(x_test) # Model prediction\n",
    "r2_vanilla = r2_score(y_test,y_hat) # R-squared\n",
    "\n",
    "y_test = y_test.reshape((y_test.shape[0],1)) # Adjust shape of array\n",
    "\n",
    "residual = y_test - y_hat # Calculating the residuals from the real and the predicted\n",
    "mae_vanilla      = np.mean((residual**2)**0.5) # Calculating the Mean Absolute Error\n",
    "\n",
    "print(\"R-Squared = \", r2_vanilla)\n",
    "print(\"MAE       = \", mae_vanilla)"
   ]
  },
  {
   "cell_type": "code",
   "execution_count": 11,
   "metadata": {},
   "outputs": [
    {
     "data": {
      "text/plain": [
       "[<matplotlib.lines.Line2D at 0x7f78f3886748>]"
      ]
     },
     "execution_count": 11,
     "metadata": {},
     "output_type": "execute_result"
    },
    {
     "data": {
      "image/png": "[encoded data removed]",
      "text/plain": [
       "<matplotlib.figure.Figure at 0x7f79544105f8>"
      ]
     },
     "metadata": {},
     "output_type": "display_data"
    }
   ],
   "source": [
    "plt.plot(y_test,residual,'o')"
   ]
  },
  {
   "cell_type": "markdown",
   "metadata": {
    "collapsed": true
   },
   "source": [
    "## 4. lmage Quality impact evaluation"
   ]
  },
  {
   "cell_type": "code",
   "execution_count": 8,
   "metadata": {
    "collapsed": true
   },
   "outputs": [],
   "source": [
    "textureimages = np.load('textureimagequality10.npy') # Images with 10% pixel size\n",
    "texturedata   = pd.read_csv('texturedataprepared.csv') # Texture index data\n",
    "texturedata = texturedata.append(texturedata)\n",
    "textureimages = np.append(textureimages,np.rot90(textureimages,4,axes=(1,0)),axis=0)"
   ]
  },
  {
   "cell_type": "code",
   "execution_count": 9,
   "metadata": {
    "collapsed": true
   },
   "outputs": [],
   "source": [
    "x_train = textureimages[:].astype('float32')/255\n",
    "y_train = texturedata['texture'][:].values\n",
    "\n",
    "x_train, x_test, y_train, y_test = train_test_split(x_train, y_train, test_size=0.2, random_state=1)\n",
    "x_train, x_valid, y_train, y_valid = train_test_split(x_train, y_train, test_size=0.2, random_state=1)\n",
    "\n",
    "train_size, length, height, channels = x_train.shape"
   ]
  },
  {
   "cell_type": "code",
   "execution_count": 10,
   "metadata": {},
   "outputs": [
    {
     "name": "stdout",
     "output_type": "stream",
     "text": [
      "_________________________________________________________________\n",
      "Layer (type)                 Output Shape              Param #   \n",
      "=================================================================\n",
      "conv2d_4 (Conv2D)            (None, 48, 64, 24)        408       \n",
      "_________________________________________________________________\n",
      "max_pooling2d_4 (MaxPooling2 (None, 24, 32, 24)        0         \n",
      "_________________________________________________________________\n",
      "conv2d_5 (Conv2D)            (None, 24, 32, 48)        4656      \n",
      "_________________________________________________________________\n",
      "max_pooling2d_5 (MaxPooling2 (None, 12, 16, 48)        0         \n",
      "_________________________________________________________________\n",
      "conv2d_6 (Conv2D)            (None, 12, 16, 96)        18528     \n",
      "_________________________________________________________________\n",
      "max_pooling2d_6 (MaxPooling2 (None, 6, 8, 96)          0         \n",
      "_________________________________________________________________\n",
      "dropout_3 (Dropout)          (None, 6, 8, 96)          0         \n",
      "_________________________________________________________________\n",
      "flatten_2 (Flatten)          (None, 4608)              0         \n",
      "_________________________________________________________________\n",
      "dense_5 (Dense)              (None, 1000)              4609000   \n",
      "_________________________________________________________________\n",
      "dense_6 (Dense)              (None, 1000)              1001000   \n",
      "_________________________________________________________________\n",
      "dense_7 (Dense)              (None, 500)               500500    \n",
      "_________________________________________________________________\n",
      "dropout_4 (Dropout)          (None, 500)               0         \n",
      "_________________________________________________________________\n",
      "dense_8 (Dense)              (None, 1)                 501       \n",
      "=================================================================\n",
      "Total params: 6,134,593\n",
      "Trainable params: 6,134,593\n",
      "Non-trainable params: 0\n",
      "_________________________________________________________________\n"
     ]
    }
   ],
   "source": [
    "model = Sequential()\n",
    "model.add(Conv2D(filters=int(length/2), kernel_size=2, padding='same', activation='relu', \n",
    "                        input_shape=(length, height,channels)))\n",
    "model.add(MaxPooling2D(pool_size=2))\n",
    "model.add(Conv2D(filters=length, kernel_size=2, padding='same', activation='relu'))\n",
    "model.add(MaxPooling2D(pool_size=2))\n",
    "model.add(Conv2D(filters=length*2, kernel_size=2, padding='same', activation='relu'))\n",
    "model.add(MaxPooling2D(pool_size=2))\n",
    "model.add(Dropout(0.2))\n",
    "model.add(Flatten())\n",
    "model.add(Dense(1000, activation='relu')) # Added\n",
    "model.add(Dense(1000, activation='relu')) # Added\n",
    "model.add(Dense(500, activation='relu'))\n",
    "model.add(Dropout(0.2))\n",
    "\n",
    "model.add(Dense(1))\n",
    "\n",
    "model.summary()"
   ]
  },
  {
   "cell_type": "code",
   "execution_count": 11,
   "metadata": {
    "collapsed": true
   },
   "outputs": [],
   "source": [
    "# compile the model\n",
    "model.compile(loss='mean_squared_error', optimizer='adam', \n",
    "                  metrics=[rsquared])\n",
    "\n",
    "checkpointer = ModelCheckpoint(filepath='model.weights.cnn10.hdf5', verbose=1, \n",
    "                               save_best_only=True)"
   ]
  },
  {
   "cell_type": "code",
   "execution_count": 12,
   "metadata": {},
   "outputs": [
    {
     "name": "stdout",
     "output_type": "stream",
     "text": [
      "Train on 1820 samples, validate on 455 samples\n",
      "Epoch 1/20\n",
      "Epoch 00000: val_loss improved from inf to 77076.29026, saving model to model.weights.cnn10.hdf5\n",
      "2s - loss: 106168.7437 - rsquared: -2.8913e-01 - val_loss: 77076.2903 - val_rsquared: 0.1563\n",
      "Epoch 2/20\n",
      "Epoch 00001: val_loss improved from 77076.29026 to 38810.79031, saving model to model.weights.cnn10.hdf5\n",
      "2s - loss: 50442.5488 - rsquared: 0.3556 - val_loss: 38810.7903 - val_rsquared: 0.5161\n",
      "Epoch 3/20\n",
      "Epoch 00002: val_loss improved from 38810.79031 to 12913.02890, saving model to model.weights.cnn10.hdf5\n",
      "2s - loss: 25144.7274 - rsquared: 0.6758 - val_loss: 12913.0289 - val_rsquared: 0.8411\n",
      "Epoch 4/20\n",
      "Epoch 00003: val_loss improved from 12913.02890 to 11472.62552, saving model to model.weights.cnn10.hdf5\n",
      "2s - loss: 11996.3974 - rsquared: 0.8494 - val_loss: 11472.6255 - val_rsquared: 0.8684\n",
      "Epoch 5/20\n",
      "Epoch 00004: val_loss did not improve\n",
      "1s - loss: 13448.1367 - rsquared: 0.8232 - val_loss: 11614.4630 - val_rsquared: 0.8676\n",
      "Epoch 6/20\n",
      "Epoch 00005: val_loss improved from 11472.62552 to 4910.92649, saving model to model.weights.cnn10.hdf5\n",
      "2s - loss: 9075.3426 - rsquared: 0.8876 - val_loss: 4910.9265 - val_rsquared: 0.9423\n",
      "Epoch 7/20\n",
      "Epoch 00006: val_loss did not improve\n",
      "1s - loss: 8776.3883 - rsquared: 0.8918 - val_loss: 9615.0226 - val_rsquared: 0.8800\n",
      "Epoch 8/20\n",
      "Epoch 00007: val_loss did not improve\n",
      "1s - loss: 8183.3451 - rsquared: 0.8982 - val_loss: 9666.6958 - val_rsquared: 0.8779\n",
      "Epoch 9/20\n",
      "Epoch 00008: val_loss did not improve\n",
      "1s - loss: 13569.8242 - rsquared: 0.8203 - val_loss: 5930.4333 - val_rsquared: 0.9281\n",
      "Epoch 10/20\n",
      "Epoch 00009: val_loss did not improve\n",
      "1s - loss: 9046.4469 - rsquared: 0.8839 - val_loss: 15500.6128 - val_rsquared: 0.8049\n",
      "Epoch 11/20\n",
      "Epoch 00010: val_loss did not improve\n",
      "1s - loss: 7281.9746 - rsquared: 0.9091 - val_loss: 6182.7836 - val_rsquared: 0.9232\n",
      "Epoch 12/20\n",
      "Epoch 00011: val_loss improved from 4910.92649 to 3192.34596, saving model to model.weights.cnn10.hdf5\n",
      "2s - loss: 4169.4163 - rsquared: 0.9459 - val_loss: 3192.3460 - val_rsquared: 0.9630\n",
      "Epoch 13/20\n",
      "Epoch 00012: val_loss improved from 3192.34596 to 2854.58752, saving model to model.weights.cnn10.hdf5\n",
      "2s - loss: 3553.0997 - rsquared: 0.9542 - val_loss: 2854.5875 - val_rsquared: 0.9672\n",
      "Epoch 14/20\n",
      "Epoch 00013: val_loss did not improve\n",
      "1s - loss: 3197.5933 - rsquared: 0.9589 - val_loss: 2854.7385 - val_rsquared: 0.9670\n",
      "Epoch 15/20\n",
      "Epoch 00014: val_loss did not improve\n",
      "1s - loss: 5000.5666 - rsquared: 0.9365 - val_loss: 8521.7035 - val_rsquared: 0.8979\n",
      "Epoch 16/20\n",
      "Epoch 00015: val_loss did not improve\n",
      "1s - loss: 5113.6399 - rsquared: 0.9345 - val_loss: 11522.8835 - val_rsquared: 0.8544\n",
      "Epoch 17/20\n",
      "Epoch 00016: val_loss did not improve\n",
      "1s - loss: 4235.5938 - rsquared: 0.9436 - val_loss: 3713.6076 - val_rsquared: 0.9544\n",
      "Epoch 18/20\n",
      "Epoch 00017: val_loss improved from 2854.58752 to 2484.24097, saving model to model.weights.cnn10.hdf5\n",
      "2s - loss: 4108.7207 - rsquared: 0.9446 - val_loss: 2484.2410 - val_rsquared: 0.9708\n",
      "Epoch 19/20\n",
      "Epoch 00018: val_loss did not improve\n",
      "1s - loss: 3272.3505 - rsquared: 0.9587 - val_loss: 3265.8179 - val_rsquared: 0.9619\n",
      "Epoch 20/20\n",
      "Epoch 00019: val_loss did not improve\n",
      "1s - loss: 3323.5797 - rsquared: 0.9564 - val_loss: 3483.1329 - val_rsquared: 0.9563\n"
     ]
    }
   ],
   "source": [
    "hist = model.fit(x_train, y_train, batch_size=30, epochs=20,\n",
    "          validation_data=(x_valid, y_valid), callbacks=[checkpointer], \n",
    "          verbose=2, shuffle=True)"
   ]
  },
  {
   "cell_type": "code",
   "execution_count": 13,
   "metadata": {
    "collapsed": true
   },
   "outputs": [],
   "source": [
    "# load the weights that yielded the best validation accuracy\n",
    "model.load_weights('model.weights.cnn10.hdf5')"
   ]
  },
  {
   "cell_type": "code",
   "execution_count": 14,
   "metadata": {},
   "outputs": [
    {
     "name": "stdout",
     "output_type": "stream",
     "text": [
      "R-Squared =  0.974668217334\n",
      "MAE       =  35.0329323807\n"
     ]
    }
   ],
   "source": [
    "y_hat = model.predict(x_test) # Model prediction\n",
    "r2_vanilla = r2_score(y_test,y_hat) # R-squared\n",
    "\n",
    "y_test = y_test.reshape((y_test.shape[0],1)) # Adjust shape of array\n",
    "\n",
    "residual = y_test - y_hat # Calculating the residuals from the real and the predicted\n",
    "mae_vanilla      = np.mean((residual**2)**0.5) # Calculating the Mean Absolute Error\n",
    "\n",
    "print(\"R-Squared = \", r2_vanilla)\n",
    "print(\"MAE       = \", mae_vanilla)"
   ]
  },
  {
   "cell_type": "code",
   "execution_count": 15,
   "metadata": {},
   "outputs": [
    {
     "data": {
      "text/plain": [
       "[<matplotlib.lines.Line2D at 0x7fd8eb00beb8>]"
      ]
     },
     "execution_count": 15,
     "metadata": {},
     "output_type": "execute_result"
    },
    {
     "data": {
      "image/png": "[encoded data removed]",
      "text/plain": [
       "<matplotlib.figure.Figure at 0x7fd8eb59d358>"
      ]
     },
     "metadata": {},
     "output_type": "display_data"
    }
   ],
   "source": [
    "plt.plot(y_test,residual,'o')"
   ]
  },
  {
   "cell_type": "code",
   "execution_count": null,
   "metadata": {
    "collapsed": true
   },
   "outputs": [],
   "source": []
  }
 ],
 "metadata": {
  "kernelspec": {
   "display_name": "Python 3",
   "language": "python",
   "name": "python3"
  },
  "language_info": {
   "codemirror_mode": {
    "name": "ipython",
    "version": 3
   },
   "file_extension": ".py",
   "mimetype": "text/x-python",
   "name": "python",
   "nbconvert_exporter": "python",
   "pygments_lexer": "ipython3",
   "version": "3.5.3"
  }
 },
 "nbformat": 4,
 "nbformat_minor": 2
}
